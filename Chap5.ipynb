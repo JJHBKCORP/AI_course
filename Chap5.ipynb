{
  "nbformat": 4,
  "nbformat_minor": 0,
  "metadata": {
    "colab": {
      "name": "Chap5.ipynb",
      "provenance": [],
      "authorship_tag": "ABX9TyP+dLTXCegBhLzI5xgiZlCJ",
      "include_colab_link": true
    },
    "kernelspec": {
      "name": "python3",
      "display_name": "Python 3"
    }
  },
  "cells": [
    {
      "cell_type": "markdown",
      "metadata": {
        "id": "view-in-github",
        "colab_type": "text"
      },
      "source": [
        "<a href=\"https://colab.research.google.com/github/jjhbk/AI_course/blob/main/Chap5.ipynb\" target=\"_parent\"><img src=\"https://colab.research.google.com/assets/colab-badge.svg\" alt=\"Open In Colab\"/></a>"
      ]
    },
    {
      "cell_type": "code",
      "metadata": {
        "id": "8DWZiVFUjMAo"
      },
      "source": [
        "# Thompson Sampling for Slot Machines\n",
        "\n",
        "# Importing the libraries\n",
        "import numpy as np\n",
        "\n",
        "# Setting conversion rates and the number of samples\n",
        "conversionRates = [0.15, 0.04, 0.13, 0.11, 0.05]\n",
        "N = 10000\n",
        "d = len(conversionRates)\n",
        "\n",
        "# Creating the dataset\n",
        "X = np.zeros((N, d))\n",
        "for i in range(N):\n",
        "    for j in range(d):\n",
        "        if np.random.rand() < conversionRates[j]:\n",
        "            X[i][j] = 1\n",
        "\n",
        "# Making arrays to count our losses and wins\n",
        "nPosReward = np.zeros(d)\n",
        "nNegReward = np.zeros(d)\n",
        "\n",
        "# Taking our best slot machine through beta distibution and updating its losses and wins\n",
        "for i in range(N):\n",
        "    selected = 0\n",
        "    maxRandom = 0\n",
        "    for j in range(d):\n",
        "        randomBeta = np.random.beta(nPosReward[j] + 1, nNegReward[j] + 1)\n",
        "        if randomBeta > maxRandom:\n",
        "            maxRandom = randomBeta\n",
        "            selected = j\n",
        "    if X[i][selected] == 1:\n",
        "        nPosReward[selected] += 1\n",
        "    else:\n",
        "        nNegReward[selected] += 1\n",
        "\n",
        "# Showing which slot machine is considered the best\n",
        "nSelected = nPosReward + nNegReward \n",
        "\n",
        "for i in range(d):\n",
        "    print('Machine number ' + str(i + 1) + ' was selected ' + str(nSelected[i]) + ' times')\n",
        "print('Conclusion: Best machine is machine number ' + str(np.argmax(nSelected) + 1))"
      ],
      "execution_count": null,
      "outputs": []
    },
    {
      "cell_type": "code",
      "metadata": {
        "colab": {
          "base_uri": "https://localhost:8080/",
          "height": 312
        },
        "id": "CGIlWO9MQy4Q",
        "outputId": "cf02bec7-788f-4cb2-f61e-f489d4455e8f"
      },
      "source": [
        "import numpy as np \n",
        "import matplotlib.pyplot as plt\n",
        "import random \n",
        "N=10000;\n",
        "d=9;\n",
        "conversion_rates = [0.05,0.13,0.09,0.16,0.11,0.04,0.20,0.08,0.01];\n",
        "X= np.array(np.zeros([N,d]));\n",
        "for i in range (N):\n",
        "  for j in range (d):\n",
        "    if np.random.rand() <= conversion_rates [j]:\n",
        "      X[i,j]= 1;\n",
        "strategies_selected_rs=[];\n",
        "strategies_selected_ts=[];\n",
        "total_reward_rs=0;\n",
        "total_reward_ts=0;\n",
        "numbers_of_rewards_1= [0]*d;\n",
        "numbers_of_rewards_0=[0]*d;\n",
        "\n",
        "for i in range (0,N):\n",
        "  strategy_rs= random.randrange(d);\n",
        "  strategies_selected_rs.append(strategy_rs);\n",
        "  reward_rs= X[i,strategy_rs];\n",
        "  total_reward_rs+= reward_rs;\n",
        "  strategy_ts=0;\n",
        "  max_random=0;\n",
        "  for j in range(0,d):\n",
        "    random_beta= random.betavariate(numbers_of_rewards_1[j]+1,numbers_of_rewards_0[j]+1);\n",
        "    if random_beta>max_random:\n",
        "      maxrandom= random_beta;\n",
        "      strategy_ts=j;\n",
        "  rewards_ts=X[i,strategy_ts];\n",
        "  if rewards_ts==1:\n",
        "    numbers_of_rewards_1[strategy_ts]+=1;\n",
        "  else:\n",
        "    numbers_of_rewards_0[strategy_ts]+=1;\n",
        "  strategies_selected_ts.append(strategy_ts);\n",
        "  total_reward_ts+= rewards_ts;\n",
        "# Computing the Relative Return\n",
        "relative_return = (total_reward_ts - total_reward_rs) / total_reward_rs * 100;\n",
        "print(\"Relative Return: {:.0f} %\".format(relative_return));\n",
        "plt.hist(strategies_selected_ts);\n",
        "plt.title('Histogram of selections');\n",
        "plt.xlabel('Strategy');\n",
        "plt.ylabel('Number of times the strategy was chosen');\n",
        "plt.show();\n",
        "\n",
        "  \n",
        "\n",
        "\n",
        "  \n"
      ],
      "execution_count": null,
      "outputs": [
        {
          "output_type": "stream",
          "text": [
            "Relative Return: -91 %\n"
          ],
          "name": "stdout"
        },
        {
          "output_type": "display_data",
          "data": {
            "image/png": "[encoded data removed]",
            "text/plain": [
              "<Figure size 432x288 with 1 Axes>"
            ]
          },
          "metadata": {
            "tags": [],
            "needs_background": "light"
          }
        }
      ]
    },
    {
      "cell_type": "code",
      "metadata": {
        "id": "9zmFG5npaimu"
      },
      "source": [
        ""
      ],
      "execution_count": null,
      "outputs": []
    }
  ]
}