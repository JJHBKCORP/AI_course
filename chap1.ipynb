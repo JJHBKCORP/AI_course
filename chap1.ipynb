{
  "nbformat": 4,
  "nbformat_minor": 0,
  "metadata": {
    "colab": {
      "name": "Untitled0.ipynb",
      "provenance": [],
      "authorship_tag": "ABX9TyPdCPFfYu0xpQFzPH2EDFUk",
      "include_colab_link": true
    },
    "kernelspec": {
      "name": "python3",
      "display_name": "Python 3"
    }
  },
  "cells": [
    {
      "cell_type": "markdown",
      "metadata": {
        "id": "view-in-github",
        "colab_type": "text"
      },
      "source": [
        "<a href=\"https://colab.research.google.com/github/jjhbk/AI_course/blob/main/chap1.ipynb\" target=\"_parent\"><img src=\"https://colab.research.google.com/assets/colab-badge.svg\" alt=\"Open In Colab\"/></a>"
      ]
    },
    {
      "cell_type": "code",
      "metadata": {
        "id": "cFyBuJpWs6NI",
        "colab": {
          "base_uri": "https://localhost:8080/"
        },
        "outputId": "1ef752bf-b68c-40f0-f005-302fa0f81065"
      },
      "source": [
        "print(\"Hello world \\n jathin \\n jagannath \");"
      ],
      "execution_count": 2,
      "outputs": [
        {
          "output_type": "stream",
          "text": [
            "Hello world \n",
            " jathin \n",
            " jagannath \n"
          ],
          "name": "stdout"
        }
      ]
    },
    {
      "cell_type": "code",
      "metadata": {
        "colab": {
          "base_uri": "https://localhost:8080/"
        },
        "id": "JJTiTTnH1WJH",
        "outputId": "c632498f-26ff-41e4-b204-ab4e41735a90"
      },
      "source": [
        "x=2;\n",
        "y=5;\n",
        "x=pow(x,y);\n",
        "print (x);\n",
        "\n"
      ],
      "execution_count": 7,
      "outputs": [
        {
          "output_type": "stream",
          "text": [
            "32\n"
          ],
          "name": "stdout"
        }
      ]
    },
    {
      "cell_type": "code",
      "metadata": {
        "colab": {
          "base_uri": "https://localhost:8080/"
        },
        "id": "o5JNjlD-1xQH",
        "outputId": "5236653b-1bdb-4700-bf4b-96904f540503"
      },
      "source": [
        "import numpy as np \n",
        "nparray= np.zeros((5,5));\n",
        "print(nparray);\n"
      ],
      "execution_count": 12,
      "outputs": [
        {
          "output_type": "stream",
          "text": [
            "[[0. 0. 0. 0. 0.]\n",
            " [0. 0. 0. 0. 0.]\n",
            " [0. 0. 0. 0. 0.]\n",
            " [0. 0. 0. 0. 0.]\n",
            " [0. 0. 0. 0. 0.]]\n"
          ],
          "name": "stdout"
        }
      ]
    },
    {
      "cell_type": "code",
      "metadata": {
        "colab": {
          "base_uri": "https://localhost:8080/"
        },
        "id": "JAOV8kD22zfV",
        "outputId": "408f8186-1829-4233-b139-0e62e956a4e3"
      },
      "source": [
        "def divisible(x) :\n",
        "   if x%3 == 0:\n",
        "      print(\"number divisble by 3\");\n",
        "   else:\n",
        "       print (\"number not divisible \");\n",
        "\n",
        "divisible(130);\n"
      ],
      "execution_count": 18,
      "outputs": [
        {
          "output_type": "stream",
          "text": [
            "number not divisible \n"
          ],
          "name": "stdout"
        }
      ]
    },
    {
      "cell_type": "code",
      "metadata": {
        "colab": {
          "base_uri": "https://localhost:8080/"
        },
        "id": "OYSfo3Zx4ocp",
        "outputId": "909811f4-3778-4f4d-9bcd-4f4cb8d41ffb"
      },
      "source": [
        "def fact_for(x):\n",
        "  j=1;\n",
        "  for i in range (1,x+1):\n",
        "    j=j*i;\n",
        "  print(j);\n",
        "\n",
        "  return j;\n",
        "def fact_while(x):\n",
        "  j=1;\n",
        "  while(x>1):\n",
        "    j=j*x;\n",
        "    x=x-1;\n",
        "  print(j);\n",
        "  return j;\n",
        "  \n",
        "  \n",
        "fact_for(5);\n",
        "fact_while(4);\n",
        "\n",
        "  \n",
        "\n",
        "\n"
      ],
      "execution_count": 24,
      "outputs": [
        {
          "output_type": "stream",
          "text": [
            "120\n",
            "24\n"
          ],
          "name": "stdout"
        }
      ]
    },
    {
      "cell_type": "code",
      "metadata": {
        "colab": {
          "base_uri": "https://localhost:8080/"
        },
        "id": "xh-I8otW65Eu",
        "outputId": "939f217b-5ac5-44ba-905d-b5c3313ddd6e"
      },
      "source": [
        "import math as math\n",
        "def distance(x1,y1,x2,y2):\n",
        "  dist= math.sqrt((x2-x1)**2+(y2-y1)**2);\n",
        "  print(dist);\n",
        "\n",
        "distance(2,3,4,5);"
      ],
      "execution_count": 29,
      "outputs": [
        {
          "output_type": "stream",
          "text": [
            "2.8284271247461903\n"
          ],
          "name": "stdout"
        }
      ]
    },
    {
      "cell_type": "code",
      "metadata": {
        "colab": {
          "base_uri": "https://localhost:8080/"
        },
        "id": "MZK_AObF8a2F",
        "outputId": "603465e3-6138-486c-c583-38c8cc2af738"
      },
      "source": [
        "class car():\n",
        "  def __init__(self,Vmin,Acc):\n",
        "    self.Vmin= Vmin;\n",
        "    self.Acc= Acc;\n",
        "  def time(self,Vmax):\n",
        "    time=(Vmax - self.Vmin)/self.Acc;\n",
        "    print(time);\n",
        "\n",
        "car1 = car(2,3);\n",
        "car1.time(50);\n",
        "\n",
        "\n",
        "  "
      ],
      "execution_count": 31,
      "outputs": [
        {
          "output_type": "stream",
          "text": [
            "16.0\n"
          ],
          "name": "stdout"
        }
      ]
    }
  ]
}